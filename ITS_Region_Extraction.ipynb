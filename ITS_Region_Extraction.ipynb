{
 "cells": [
  {
   "cell_type": "markdown",
   "metadata": {},
   "source": [
    "# Extraction of ITS1-5.8S rRNA-ITS2 Sequence From RefseqITS Records"
   ]
  },
  {
   "cell_type": "markdown",
   "metadata": {},
   "source": [
    "- RefSeq ITS records are not perfect.\n",
    "- Some records contain additional regions like '18S ribosomal RNA' or '28S ribosomal RNA'\n",
    "- Some records do not contain ITS1 or ITS2 regions. Some records are incomplete.\n",
    "- Following code extracts ITS1-5.8S rRNA-ITS2 region from GenBank RefSeq ITS records."
   ]
  },
  {
   "cell_type": "code",
   "execution_count": 4,
   "metadata": {},
   "outputs": [
    {
     "name": "stdout",
     "output_type": "stream",
     "text": [
      "--2023-09-24 14:05:41--  https://ftp.ncbi.nlm.nih.gov/refseq/TargetedLoci/Fungi/fungi.ITS.gbff.gz\n",
      "Resolving ftp.ncbi.nlm.nih.gov (ftp.ncbi.nlm.nih.gov)... 165.112.9.229, 130.14.250.13\n",
      "Connecting to ftp.ncbi.nlm.nih.gov (ftp.ncbi.nlm.nih.gov)|165.112.9.229|:443... connected.\n",
      "HTTP request sent, awaiting response... 200 OK\n",
      "Length: 8391142 (8.0M) [application/x-gzip]\n",
      "Saving to: 'fungi.ITS.gbff.gz.1'\n",
      "\n",
      "fungi.ITS.gbff.gz.1 100%[===================>]   8.00M  3.37MB/s    in 2.4s    \n",
      "\n",
      "2023-09-24 14:05:44 (3.37 MB/s) - 'fungi.ITS.gbff.gz.1' saved [8391142/8391142]\n",
      "\n"
     ]
    },
    {
     "data": {
      "text/plain": [
       "16562"
      ]
     },
     "execution_count": 4,
     "metadata": {},
     "output_type": "execute_result"
    }
   ],
   "source": [
    "# Download gbff format ITS sequence records\n",
    "! wget https://ftp.ncbi.nlm.nih.gov/refseq/TargetedLoci/Fungi/fungi.ITS.gbff.gz\n",
    "! gunzip --force fungi.ITS.gbff.gz # --force override existing file \n",
    "gbff_file = 'fungi.ITS.gbff'\n",
    "\n",
    "\n",
    "from Bio import SeqIO\n",
    "# Parse the GBFF file\n",
    "records = SeqIO.parse(gbff_file, \"genbank\")\n",
    "reference_regions=[]\n",
    "for record in records:\n",
    "    ribosomal_rna_present=False\n",
    "    ITS1_present=False\n",
    "    ITS2_present=False\n",
    "    for feature in record.features:\n",
    "        # Look for \"internal transcribed spacer 1\" and \"internal transcribed spacer 2\"\n",
    "        if feature.type == \"misc_RNA\" and \"product\" in feature.qualifiers:\n",
    "            product_name = feature.qualifiers[\"product\"][0]\n",
    "            if product_name == \"internal transcribed spacer 1\":\n",
    "                start = int(feature.location.start)\n",
    "                ITS1_present=True\n",
    "            elif product_name == \"internal transcribed spacer 2\":\n",
    "                end = int(feature.location.end)\n",
    "                ITS2_present=True\n",
    "        # Look for \"5.8S ribosomal RNA\"\n",
    "        elif feature.type == \"rRNA\" and \"product\" in feature.qualifiers:\n",
    "            product_name = feature.qualifiers[\"product\"][0]\n",
    "            if product_name == \"5.8S ribosomal RNA\":\n",
    "                ribosomal_rna_present=True\n",
    "    # If the record is complete, write the region of interest into a new fasta file. \n",
    "    if all([ribosomal_rna_present, ITS1_present,ITS2_present]):\n",
    "        sequence = record.seq[start:end]\n",
    "        accession = record.id\n",
    "        description = record.description\n",
    "        reference_region = SeqIO.SeqRecord(sequence, id=str(accession), description=str(description))\n",
    "        reference_regions.append(reference_region)\n",
    "\n",
    "# Write region of interest\n",
    "output_file_name = 'reference_regions.fa'\n",
    "SeqIO.write(reference_regions, output_file_name, \"fasta\")"
   ]
  }
 ],
 "metadata": {
  "kernelspec": {
   "display_name": "bioinfo",
   "language": "python",
   "name": "python3"
  },
  "language_info": {
   "codemirror_mode": {
    "name": "ipython",
    "version": 3
   },
   "file_extension": ".py",
   "mimetype": "text/x-python",
   "name": "python",
   "nbconvert_exporter": "python",
   "pygments_lexer": "ipython3",
   "version": "3.9.18"
  },
  "orig_nbformat": 4
 },
 "nbformat": 4,
 "nbformat_minor": 2
}
